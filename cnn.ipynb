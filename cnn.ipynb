{
  "nbformat": 4,
  "nbformat_minor": 0,
  "metadata": {
    "kernelspec": {
      "display_name": "Python 3",
      "language": "python",
      "name": "python3"
    },
    "language_info": {
      "codemirror_mode": {
        "name": "ipython",
        "version": 3
      },
      "file_extension": ".py",
      "mimetype": "text/x-python",
      "name": "python",
      "nbconvert_exporter": "python",
      "pygments_lexer": "ipython3",
      "version": "3.7.3"
    },
    "colab": {
      "name": "作業四_資管四_107306052_詹筑婷.ipynb",
      "provenance": [],
      "collapsed_sections": [],
      "include_colab_link": true
    },
    "accelerator": "GPU",
    "widgets": {
      "application/vnd.jupyter.widget-state+json": {
        "30fbf24342734d0ebfc5ed42e0ad712d": {
          "model_module": "@jupyter-widgets/controls",
          "model_name": "VBoxModel",
          "model_module_version": "1.5.0",
          "state": {
            "_dom_classes": [
              "widget-interact"
            ],
            "_model_module": "@jupyter-widgets/controls",
            "_model_module_version": "1.5.0",
            "_model_name": "VBoxModel",
            "_view_count": null,
            "_view_module": "@jupyter-widgets/controls",
            "_view_module_version": "1.5.0",
            "_view_name": "VBoxView",
            "box_style": "",
            "children": [
              "IPY_MODEL_afe1752053ec4633af941f38fefbbdbf",
              "IPY_MODEL_080b153ab7344acfb6d7c8dfce4425cb",
              "IPY_MODEL_424bbe9a0c0a429d9557ae403bbdc7a1"
            ],
            "layout": "IPY_MODEL_52a2ffe689094a27a178a8afa47d7341"
          }
        },
        "afe1752053ec4633af941f38fefbbdbf": {
          "model_module": "@jupyter-widgets/controls",
          "model_name": "IntSliderModel",
          "model_module_version": "1.5.0",
          "state": {
            "_dom_classes": [],
            "_model_module": "@jupyter-widgets/controls",
            "_model_module_version": "1.5.0",
            "_model_name": "IntSliderModel",
            "_view_count": null,
            "_view_module": "@jupyter-widgets/controls",
            "_view_module_version": "1.5.0",
            "_view_name": "IntSliderView",
            "continuous_update": true,
            "description": "n",
            "description_tooltip": null,
            "disabled": false,
            "layout": "IPY_MODEL_eba8cf279b074d69a13719eb6a23d86c",
            "max": 9999,
            "min": 0,
            "orientation": "horizontal",
            "readout": true,
            "readout_format": "d",
            "step": 1,
            "style": "IPY_MODEL_8ecd372e14224a5f98d191609babd87b",
            "value": 3015
          }
        },
        "080b153ab7344acfb6d7c8dfce4425cb": {
          "model_module": "@jupyter-widgets/controls",
          "model_name": "ButtonModel",
          "model_module_version": "1.5.0",
          "state": {
            "_dom_classes": [],
            "_model_module": "@jupyter-widgets/controls",
            "_model_module_version": "1.5.0",
            "_model_name": "ButtonModel",
            "_view_count": null,
            "_view_module": "@jupyter-widgets/controls",
            "_view_module_version": "1.5.0",
            "_view_name": "ButtonView",
            "button_style": "",
            "description": "Run Interact",
            "disabled": false,
            "icon": "",
            "layout": "IPY_MODEL_27d276e17f364d96b09cedce717b4edd",
            "style": "IPY_MODEL_459f5f68580e4dc9a6924e1705b56817",
            "tooltip": ""
          }
        },
        "424bbe9a0c0a429d9557ae403bbdc7a1": {
          "model_module": "@jupyter-widgets/output",
          "model_name": "OutputModel",
          "model_module_version": "1.0.0",
          "state": {
            "_dom_classes": [],
            "_model_module": "@jupyter-widgets/output",
            "_model_module_version": "1.0.0",
            "_model_name": "OutputModel",
            "_view_count": null,
            "_view_module": "@jupyter-widgets/output",
            "_view_module_version": "1.0.0",
            "_view_name": "OutputView",
            "layout": "IPY_MODEL_eb7322ae17f54d6dbd6354af7b4b7429",
            "msg_id": "",
            "outputs": [
              {
                "output_type": "stream",
                "name": "stdout",
                "text": [
                  "我可愛的 CNN 預測是 3\n"
                ]
              },
              {
                "output_type": "display_data",
                "data": {
                  "text/plain": "<Figure size 432x288 with 1 Axes>",
                  "image/png": "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\n"
                },
                "metadata": {
                  "needs_background": "light"
                }
              }
            ]
          }
        },
        "52a2ffe689094a27a178a8afa47d7341": {
          "model_module": "@jupyter-widgets/base",
          "model_name": "LayoutModel",
          "model_module_version": "1.2.0",
          "state": {
            "_model_module": "@jupyter-widgets/base",
            "_model_module_version": "1.2.0",
            "_model_name": "LayoutModel",
            "_view_count": null,
            "_view_module": "@jupyter-widgets/base",
            "_view_module_version": "1.2.0",
            "_view_name": "LayoutView",
            "align_content": null,
            "align_items": null,
            "align_self": null,
            "border": null,
            "bottom": null,
            "display": null,
            "flex": null,
            "flex_flow": null,
            "grid_area": null,
            "grid_auto_columns": null,
            "grid_auto_flow": null,
            "grid_auto_rows": null,
            "grid_column": null,
            "grid_gap": null,
            "grid_row": null,
            "grid_template_areas": null,
            "grid_template_columns": null,
            "grid_template_rows": null,
            "height": null,
            "justify_content": null,
            "justify_items": null,
            "left": null,
            "margin": null,
            "max_height": null,
            "max_width": null,
            "min_height": null,
            "min_width": null,
            "object_fit": null,
            "object_position": null,
            "order": null,
            "overflow": null,
            "overflow_x": null,
            "overflow_y": null,
            "padding": null,
            "right": null,
            "top": null,
            "visibility": null,
            "width": null
          }
        },
        "eba8cf279b074d69a13719eb6a23d86c": {
          "model_module": "@jupyter-widgets/base",
          "model_name": "LayoutModel",
          "model_module_version": "1.2.0",
          "state": {
            "_model_module": "@jupyter-widgets/base",
            "_model_module_version": "1.2.0",
            "_model_name": "LayoutModel",
            "_view_count": null,
            "_view_module": "@jupyter-widgets/base",
            "_view_module_version": "1.2.0",
            "_view_name": "LayoutView",
            "align_content": null,
            "align_items": null,
            "align_self": null,
            "border": null,
            "bottom": null,
            "display": null,
            "flex": null,
            "flex_flow": null,
            "grid_area": null,
            "grid_auto_columns": null,
            "grid_auto_flow": null,
            "grid_auto_rows": null,
            "grid_column": null,
            "grid_gap": null,
            "grid_row": null,
            "grid_template_areas": null,
            "grid_template_columns": null,
            "grid_template_rows": null,
            "height": null,
            "justify_content": null,
            "justify_items": null,
            "left": null,
            "margin": null,
            "max_height": null,
            "max_width": null,
            "min_height": null,
            "min_width": null,
            "object_fit": null,
            "object_position": null,
            "order": null,
            "overflow": null,
            "overflow_x": null,
            "overflow_y": null,
            "padding": null,
            "right": null,
            "top": null,
            "visibility": null,
            "width": null
          }
        },
        "8ecd372e14224a5f98d191609babd87b": {
          "model_module": "@jupyter-widgets/controls",
          "model_name": "SliderStyleModel",
          "model_module_version": "1.5.0",
          "state": {
            "_model_module": "@jupyter-widgets/controls",
            "_model_module_version": "1.5.0",
            "_model_name": "SliderStyleModel",
            "_view_count": null,
            "_view_module": "@jupyter-widgets/base",
            "_view_module_version": "1.2.0",
            "_view_name": "StyleView",
            "description_width": "",
            "handle_color": null
          }
        },
        "27d276e17f364d96b09cedce717b4edd": {
          "model_module": "@jupyter-widgets/base",
          "model_name": "LayoutModel",
          "model_module_version": "1.2.0",
          "state": {
            "_model_module": "@jupyter-widgets/base",
            "_model_module_version": "1.2.0",
            "_model_name": "LayoutModel",
            "_view_count": null,
            "_view_module": "@jupyter-widgets/base",
            "_view_module_version": "1.2.0",
            "_view_name": "LayoutView",
            "align_content": null,
            "align_items": null,
            "align_self": null,
            "border": null,
            "bottom": null,
            "display": null,
            "flex": null,
            "flex_flow": null,
            "grid_area": null,
            "grid_auto_columns": null,
            "grid_auto_flow": null,
            "grid_auto_rows": null,
            "grid_column": null,
            "grid_gap": null,
            "grid_row": null,
            "grid_template_areas": null,
            "grid_template_columns": null,
            "grid_template_rows": null,
            "height": null,
            "justify_content": null,
            "justify_items": null,
            "left": null,
            "margin": null,
            "max_height": null,
            "max_width": null,
            "min_height": null,
            "min_width": null,
            "object_fit": null,
            "object_position": null,
            "order": null,
            "overflow": null,
            "overflow_x": null,
            "overflow_y": null,
            "padding": null,
            "right": null,
            "top": null,
            "visibility": null,
            "width": null
          }
        },
        "459f5f68580e4dc9a6924e1705b56817": {
          "model_module": "@jupyter-widgets/controls",
          "model_name": "ButtonStyleModel",
          "model_module_version": "1.5.0",
          "state": {
            "_model_module": "@jupyter-widgets/controls",
            "_model_module_version": "1.5.0",
            "_model_name": "ButtonStyleModel",
            "_view_count": null,
            "_view_module": "@jupyter-widgets/base",
            "_view_module_version": "1.2.0",
            "_view_name": "StyleView",
            "button_color": null,
            "font_weight": ""
          }
        },
        "eb7322ae17f54d6dbd6354af7b4b7429": {
          "model_module": "@jupyter-widgets/base",
          "model_name": "LayoutModel",
          "model_module_version": "1.2.0",
          "state": {
            "_model_module": "@jupyter-widgets/base",
            "_model_module_version": "1.2.0",
            "_model_name": "LayoutModel",
            "_view_count": null,
            "_view_module": "@jupyter-widgets/base",
            "_view_module_version": "1.2.0",
            "_view_name": "LayoutView",
            "align_content": null,
            "align_items": null,
            "align_self": null,
            "border": null,
            "bottom": null,
            "display": null,
            "flex": null,
            "flex_flow": null,
            "grid_area": null,
            "grid_auto_columns": null,
            "grid_auto_flow": null,
            "grid_auto_rows": null,
            "grid_column": null,
            "grid_gap": null,
            "grid_row": null,
            "grid_template_areas": null,
            "grid_template_columns": null,
            "grid_template_rows": null,
            "height": null,
            "justify_content": null,
            "justify_items": null,
            "left": null,
            "margin": null,
            "max_height": null,
            "max_width": null,
            "min_height": null,
            "min_width": null,
            "object_fit": null,
            "object_position": null,
            "order": null,
            "overflow": null,
            "overflow_x": null,
            "overflow_y": null,
            "padding": null,
            "right": null,
            "top": null,
            "visibility": null,
            "width": null
          }
        }
      }
    }
  },
  "cells": [
    {
      "cell_type": "markdown",
      "metadata": {
        "id": "view-in-github",
        "colab_type": "text"
      },
      "source": [
        "<a href=\"https://colab.research.google.com/github/iamjudy/deep-learning-colab/blob/main/cnn.ipynb\" target=\"_parent\"><img src=\"https://colab.research.google.com/assets/colab-badge.svg\" alt=\"Open In Colab\"/></a>"
      ]
    },
    {
      "cell_type": "code",
      "metadata": {
        "id": "aGo1CZOD7L8i"
      },
      "source": [
        "%matplotlib inline\n",
        "\n",
        "import numpy as np\n",
        "import pandas as pd\n",
        "import matplotlib.pyplot as plt"
      ],
      "execution_count": 50,
      "outputs": []
    },
    {
      "cell_type": "code",
      "metadata": {
        "id": "qydn4g7F7L8l"
      },
      "source": [
        "from tensorflow.keras.utils import to_categorical\n",
        "from tensorflow.keras.models import Sequential\n",
        "from tensorflow.keras.layers import Conv2D, MaxPooling2D\n",
        "from tensorflow.keras.layers import Dense, Flatten\n",
        "from tensorflow.keras.optimizers import SGD, Adam\n",
        "from tensorflow.keras.layers import Dropout"
      ],
      "execution_count": 93,
      "outputs": []
    },
    {
      "cell_type": "markdown",
      "metadata": {
        "id": "ZB1Rlp897L8l"
      },
      "source": [
        "### 1. 讀入 MNSIT 數據集"
      ]
    },
    {
      "cell_type": "code",
      "metadata": {
        "id": "rKztOE_Z7L8m"
      },
      "source": [
        "from tensorflow.keras.datasets import mnist"
      ],
      "execution_count": 55,
      "outputs": []
    },
    {
      "cell_type": "code",
      "metadata": {
        "id": "KBQvx21g7L8m"
      },
      "source": [
        "(x_train, y_train), (x_test, y_test) = mnist.load_data()"
      ],
      "execution_count": 95,
      "outputs": []
    },
    {
      "cell_type": "markdown",
      "metadata": {
        "id": "dTqfalXt7L8m"
      },
      "source": [
        "### 2. 資料整理"
      ]
    },
    {
      "cell_type": "markdown",
      "metadata": {
        "id": "kBGLl4D67L8n"
      },
      "source": [
        "#### Channel\n",
        "\n",
        "CNN 要注意一張圖有多少個 channel, 開始我們因為只有灰階, 所以只有一個 channel。因此我們要轉一下我們的資料格式:\n",
        "\n",
        "    (28,28) --> (28, 28, 1)"
      ]
    },
    {
      "cell_type": "code",
      "metadata": {
        "id": "7aXZ78m07L8n"
      },
      "source": [
        "x_train = x_train.reshape(60000, 28, 28, 1) / 255."
      ],
      "execution_count": 96,
      "outputs": []
    },
    {
      "cell_type": "code",
      "metadata": {
        "id": "RDEM0ZS97L8n"
      },
      "source": [
        "x_test = x_test.reshape(10000, 28, 28, 1) / 255."
      ],
      "execution_count": 97,
      "outputs": []
    },
    {
      "cell_type": "code",
      "metadata": {
        "id": "hRH__4rU7L8o"
      },
      "source": [
        "y_train = to_categorical(y_train, 10)\n",
        "y_test = to_categorical(y_test, 10)"
      ],
      "execution_count": 98,
      "outputs": []
    },
    {
      "cell_type": "markdown",
      "metadata": {
        "id": "VzB2J0-T7L8o"
      },
      "source": [
        "### 3. step 1: 打造函數學習機 (CNN)\n",
        "##**把每個卷積層做兩次，並更改 filter 數量：10 -> 30 -> 60** "
      ]
    },
    {
      "cell_type": "code",
      "metadata": {
        "id": "Qc2iY67A7L8o"
      },
      "source": [
        "model = Sequential()"
      ],
      "execution_count": 100,
      "outputs": []
    },
    {
      "cell_type": "code",
      "source": [
        "model.add(Conv2D(10, (3,3), padding='same',\n",
        "                input_shape=(28,28,1),\n",
        "                activation='relu'))"
      ],
      "metadata": {
        "id": "t7wYkBLBtU6O"
      },
      "execution_count": 101,
      "outputs": []
    },
    {
      "cell_type": "code",
      "metadata": {
        "id": "0WLsmgaS7L8p"
      },
      "source": [
        "model.add(MaxPooling2D(pool_size=(2,2)))"
      ],
      "execution_count": 102,
      "outputs": []
    },
    {
      "cell_type": "code",
      "metadata": {
        "id": "eLCxB5lH7L8p"
      },
      "source": [
        "model.add(Conv2D(30, (3,3), padding='same',\n",
        "                activation='relu'))"
      ],
      "execution_count": 103,
      "outputs": []
    },
    {
      "cell_type": "code",
      "source": [
        "model.add(Conv2D(30, (3,3), padding='same',\n",
        "                activation='relu'))"
      ],
      "metadata": {
        "id": "0clhKbvStZXK"
      },
      "execution_count": 104,
      "outputs": []
    },
    {
      "cell_type": "code",
      "metadata": {
        "id": "1P3Fmcdz7L8p"
      },
      "source": [
        "model.add(MaxPooling2D(pool_size=(2,2)))"
      ],
      "execution_count": 105,
      "outputs": []
    },
    {
      "cell_type": "code",
      "metadata": {
        "id": "EE2X4ebF7L8q"
      },
      "source": [
        "model.add(Conv2D(60, (3,3), padding='same',\n",
        "                activation='relu'))"
      ],
      "execution_count": 106,
      "outputs": []
    },
    {
      "cell_type": "code",
      "source": [
        "model.add(Conv2D(60, (3,3), padding='same',\n",
        "                activation='relu'))"
      ],
      "metadata": {
        "id": "M4SNsfXntb14"
      },
      "execution_count": 107,
      "outputs": []
    },
    {
      "cell_type": "code",
      "metadata": {
        "id": "kf6aVaUg7L8q"
      },
      "source": [
        "model.add(MaxPooling2D(pool_size=(2,2)))"
      ],
      "execution_count": 108,
      "outputs": []
    },
    {
      "cell_type": "code",
      "metadata": {
        "id": "d9CzoAFg7L8q"
      },
      "source": [
        "model.add(Flatten())"
      ],
      "execution_count": 109,
      "outputs": []
    },
    {
      "cell_type": "markdown",
      "source": [
        "## **輸出前砍掉 20%資料**"
      ],
      "metadata": {
        "id": "cIUN3lxOqXV7"
      }
    },
    {
      "cell_type": "code",
      "metadata": {
        "id": "Gfj7YGlN7L8q"
      },
      "source": [
        "model.add(Dense(64, activation='relu'))"
      ],
      "execution_count": 110,
      "outputs": []
    },
    {
      "cell_type": "code",
      "source": [
        "model.add(Dropout(0.2))"
      ],
      "metadata": {
        "id": "gUb8vIf9rCH1"
      },
      "execution_count": 111,
      "outputs": []
    },
    {
      "cell_type": "code",
      "metadata": {
        "id": "iGV2eYe47L8q"
      },
      "source": [
        "model.add(Dense(10, activation='softmax'))"
      ],
      "execution_count": 112,
      "outputs": []
    },
    {
      "cell_type": "markdown",
      "metadata": {
        "id": "1Y8TVlN17L8r"
      },
      "source": [
        "#### 看一下我們的神經網路"
      ]
    },
    {
      "cell_type": "code",
      "metadata": {
        "id": "3eXWhtYc7L8r",
        "colab": {
          "base_uri": "https://localhost:8080/"
        },
        "outputId": "84a6e234-b41e-420a-993e-5d194f3ea29c"
      },
      "source": [
        "model.summary()"
      ],
      "execution_count": 113,
      "outputs": [
        {
          "output_type": "stream",
          "name": "stdout",
          "text": [
            "Model: \"sequential_4\"\n",
            "_________________________________________________________________\n",
            " Layer (type)                Output Shape              Param #   \n",
            "=================================================================\n",
            " conv2d_12 (Conv2D)          (None, 28, 28, 10)        100       \n",
            "                                                                 \n",
            " max_pooling2d_9 (MaxPooling  (None, 14, 14, 10)       0         \n",
            " 2D)                                                             \n",
            "                                                                 \n",
            " conv2d_13 (Conv2D)          (None, 14, 14, 30)        2730      \n",
            "                                                                 \n",
            " conv2d_14 (Conv2D)          (None, 14, 14, 30)        8130      \n",
            "                                                                 \n",
            " max_pooling2d_10 (MaxPoolin  (None, 7, 7, 30)         0         \n",
            " g2D)                                                            \n",
            "                                                                 \n",
            " conv2d_15 (Conv2D)          (None, 7, 7, 60)          16260     \n",
            "                                                                 \n",
            " conv2d_16 (Conv2D)          (None, 7, 7, 60)          32460     \n",
            "                                                                 \n",
            " max_pooling2d_11 (MaxPoolin  (None, 3, 3, 60)         0         \n",
            " g2D)                                                            \n",
            "                                                                 \n",
            " flatten_3 (Flatten)         (None, 540)               0         \n",
            "                                                                 \n",
            " dense_8 (Dense)             (None, 64)                34624     \n",
            "                                                                 \n",
            " dropout (Dropout)           (None, 64)                0         \n",
            "                                                                 \n",
            " dense_9 (Dense)             (None, 10)                650       \n",
            "                                                                 \n",
            "=================================================================\n",
            "Total params: 94,954\n",
            "Trainable params: 94,954\n",
            "Non-trainable params: 0\n",
            "_________________________________________________________________\n"
          ]
        }
      ]
    },
    {
      "cell_type": "markdown",
      "metadata": {
        "id": "YbX29tpF7L8s"
      },
      "source": [
        "#### 組裝\n",
        "## **optimizer 改用 Adam，調整 Learning Rate 為 0.001**"
      ]
    },
    {
      "cell_type": "code",
      "metadata": {
        "id": "_naOUBlK7L8s"
      },
      "source": [
        "model.compile(loss='mse', optimizer=Adam(learning_rate=0.001),\n",
        "             metrics=['accuracy'])"
      ],
      "execution_count": 114,
      "outputs": []
    },
    {
      "cell_type": "markdown",
      "metadata": {
        "id": "QhKz5DIF7L8s"
      },
      "source": [
        "### 4. step 2: fit\n",
        "## **更改 epochs 為 15**"
      ]
    },
    {
      "cell_type": "code",
      "metadata": {
        "scrolled": true,
        "id": "_48y-caB7L8s",
        "colab": {
          "base_uri": "https://localhost:8080/"
        },
        "outputId": "b52699ec-ffb6-45d2-8e4f-b4635b290cd5"
      },
      "source": [
        "model.fit(x_train, y_train, batch_size=128, epochs=15)"
      ],
      "execution_count": 115,
      "outputs": [
        {
          "output_type": "stream",
          "name": "stdout",
          "text": [
            "Epoch 1/15\n",
            "469/469 [==============================] - 7s 13ms/step - loss: 0.0144 - accuracy: 0.8974\n",
            "Epoch 2/15\n",
            "469/469 [==============================] - 6s 12ms/step - loss: 0.0038 - accuracy: 0.9758\n",
            "Epoch 3/15\n",
            "469/469 [==============================] - 6s 12ms/step - loss: 0.0028 - accuracy: 0.9822\n",
            "Epoch 4/15\n",
            "469/469 [==============================] - 5s 12ms/step - loss: 0.0023 - accuracy: 0.9857\n",
            "Epoch 5/15\n",
            "469/469 [==============================] - 5s 12ms/step - loss: 0.0019 - accuracy: 0.9885\n",
            "Epoch 6/15\n",
            "469/469 [==============================] - 5s 12ms/step - loss: 0.0018 - accuracy: 0.9889\n",
            "Epoch 7/15\n",
            "469/469 [==============================] - 5s 12ms/step - loss: 0.0016 - accuracy: 0.9898\n",
            "Epoch 8/15\n",
            "469/469 [==============================] - 5s 12ms/step - loss: 0.0013 - accuracy: 0.9918\n",
            "Epoch 9/15\n",
            "469/469 [==============================] - 5s 12ms/step - loss: 0.0012 - accuracy: 0.9922\n",
            "Epoch 10/15\n",
            "469/469 [==============================] - 5s 12ms/step - loss: 0.0012 - accuracy: 0.9926\n",
            "Epoch 11/15\n",
            "469/469 [==============================] - 5s 12ms/step - loss: 0.0010 - accuracy: 0.9939\n",
            "Epoch 12/15\n",
            "469/469 [==============================] - 6s 12ms/step - loss: 0.0011 - accuracy: 0.9936\n",
            "Epoch 13/15\n",
            "469/469 [==============================] - 5s 12ms/step - loss: 0.0011 - accuracy: 0.9934\n",
            "Epoch 14/15\n",
            "469/469 [==============================] - 5s 12ms/step - loss: 0.0011 - accuracy: 0.9935\n",
            "Epoch 15/15\n",
            "469/469 [==============================] - 5s 12ms/step - loss: 8.9553e-04 - accuracy: 0.9948\n"
          ]
        },
        {
          "output_type": "execute_result",
          "data": {
            "text/plain": [
              "<keras.callbacks.History at 0x7fdffe476e90>"
            ]
          },
          "metadata": {},
          "execution_count": 115
        }
      ]
    },
    {
      "cell_type": "markdown",
      "metadata": {
        "id": "KGqiIkBi7L8t"
      },
      "source": [
        "### 5. Step 3: 預測"
      ]
    },
    {
      "cell_type": "code",
      "metadata": {
        "id": "d8ILAWiy7L8t"
      },
      "source": [
        "y_predict = np.argmax(model.predict(x_test), axis=-1)"
      ],
      "execution_count": 116,
      "outputs": []
    },
    {
      "cell_type": "markdown",
      "metadata": {
        "id": "Af_AkRt77L8t"
      },
      "source": [
        "#### 看看測試資料表現如何"
      ]
    },
    {
      "cell_type": "code",
      "metadata": {
        "id": "wh3mpqtK7L8t",
        "colab": {
          "base_uri": "https://localhost:8080/"
        },
        "outputId": "1ca6e40d-44de-4795-f45e-c32257d7ea8d"
      },
      "source": [
        "loss, acc = model.evaluate(x_test, y_test)"
      ],
      "execution_count": 117,
      "outputs": [
        {
          "output_type": "stream",
          "name": "stdout",
          "text": [
            "313/313 [==============================] - 1s 4ms/step - loss: 0.0011 - accuracy: 0.9934\n"
          ]
        }
      ]
    },
    {
      "cell_type": "markdown",
      "source": [
        "## **耶！正確率有 99.34 ％**"
      ],
      "metadata": {
        "id": "R_9_lpokxayW"
      }
    },
    {
      "cell_type": "code",
      "metadata": {
        "id": "q_IL4G-R7L8u",
        "colab": {
          "base_uri": "https://localhost:8080/"
        },
        "outputId": "8248f177-534d-4db2-97e1-aba6231f808a"
      },
      "source": [
        "print(f'測試資料的正確率為 {acc*100:.2f}%')"
      ],
      "execution_count": 118,
      "outputs": [
        {
          "output_type": "stream",
          "name": "stdout",
          "text": [
            "測試資料的正確率為 99.34%\n"
          ]
        }
      ]
    },
    {
      "cell_type": "code",
      "metadata": {
        "id": "-iDHmLOs7L8u"
      },
      "source": [
        "def my_predict(n):\n",
        "    print('我可愛的 CNN 預測是', y_predict[n])\n",
        "    X = x_test[n].reshape(28,28)\n",
        "    plt.imshow(X, cmap='Greys')"
      ],
      "execution_count": 119,
      "outputs": []
    },
    {
      "cell_type": "code",
      "metadata": {
        "id": "tzVJpLQz7L8u"
      },
      "source": [
        "from ipywidgets import interact_manual"
      ],
      "execution_count": 120,
      "outputs": []
    },
    {
      "cell_type": "code",
      "metadata": {
        "id": "BGCogG2Q7L8u",
        "colab": {
          "base_uri": "https://localhost:8080/",
          "height": 347,
          "referenced_widgets": [
            "30fbf24342734d0ebfc5ed42e0ad712d",
            "afe1752053ec4633af941f38fefbbdbf",
            "080b153ab7344acfb6d7c8dfce4425cb",
            "424bbe9a0c0a429d9557ae403bbdc7a1",
            "52a2ffe689094a27a178a8afa47d7341",
            "eba8cf279b074d69a13719eb6a23d86c",
            "8ecd372e14224a5f98d191609babd87b",
            "27d276e17f364d96b09cedce717b4edd",
            "459f5f68580e4dc9a6924e1705b56817",
            "eb7322ae17f54d6dbd6354af7b4b7429"
          ]
        },
        "outputId": "fa7537b1-029a-4bac-a15a-0af5538e1eeb"
      },
      "source": [
        "interact_manual(my_predict, n=(0, 9999));"
      ],
      "execution_count": 121,
      "outputs": [
        {
          "output_type": "display_data",
          "data": {
            "text/plain": [
              "interactive(children=(IntSlider(value=4999, description='n', max=9999), Button(description='Run Interact', sty…"
            ],
            "application/vnd.jupyter.widget-view+json": {
              "version_major": 2,
              "version_minor": 0,
              "model_id": "30fbf24342734d0ebfc5ed42e0ad712d"
            }
          },
          "metadata": {}
        }
      ]
    }
  ]
}